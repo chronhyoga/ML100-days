{
 "cells": [
  {
   "cell_type": "markdown",
   "metadata": {},
   "source": [
    "## Work\n",
    "1. 請嘗試寫一個 callback 用來記錄各類別在訓練過程中，對驗證集的 True Positive 與 True Negative"
   ]
  },
  {
   "cell_type": "code",
   "execution_count": 1,
   "metadata": {},
   "outputs": [
    {
     "name": "stderr",
     "output_type": "stream",
     "text": [
      "Using TensorFlow backend.\n"
     ]
    }
   ],
   "source": [
    "import os\n",
    "import keras"
   ]
  },
  {
   "cell_type": "code",
   "execution_count": 2,
   "metadata": {},
   "outputs": [],
   "source": [
    "train, test = keras.datasets.cifar10.load_data()"
   ]
  },
  {
   "cell_type": "code",
   "execution_count": 3,
   "metadata": {},
   "outputs": [],
   "source": [
    "## 資料前處理\n",
    "def preproc_x(x, flatten=True):\n",
    "    x = x / 255.\n",
    "    if flatten:\n",
    "        x = x.reshape((len(x), -1))\n",
    "    return x\n",
    "\n",
    "def preproc_y(y, num_classes=10):\n",
    "    if y.shape[-1] == 1:\n",
    "        y = keras.utils.to_categorical(y, num_classes)\n",
    "    return y    "
   ]
  },
  {
   "cell_type": "code",
   "execution_count": 4,
   "metadata": {},
   "outputs": [],
   "source": [
    "x_train, y_train = train\n",
    "x_test, y_test = test\n",
    "\n",
    "# Preproc the inputs\n",
    "x_train = preproc_x(x_train)\n",
    "x_test = preproc_x(x_test)\n",
    "\n",
    "# Preprc the outputs\n",
    "y_train = preproc_y(y_train)\n",
    "y_test = preproc_y(y_test)"
   ]
  },
  {
   "cell_type": "code",
   "execution_count": 12,
   "metadata": {},
   "outputs": [],
   "source": [
    "from keras.layers import BatchNormalization\n",
    "from keras.models import Sequential\n",
    "from keras.layers import Dense, Activation, Dropout\n",
    "\n",
    "def build_mlp(input_shape, output_units=10, num_neurons=[256, 256, 256]):\n",
    "    model = Sequential()\n",
    "\n",
    "    # we can think of this chunk as the input layer\n",
    "    for i, n_units in enumerate(num_neurons):\n",
    "        if i == 0:\n",
    "            model.add(Dense(num_neurons[i], input_shape=input_shape))\n",
    "        else:\n",
    "            model.add(Dense(num_neurons[i]))\n",
    "                      \n",
    "        model.add(BatchNormalization())\n",
    "        model.add(Activation('relu'))\n",
    "        model.add(Dropout(0.5))\n",
    "                      \n",
    "    model.add(Dense(output_units))\n",
    "    model.add(BatchNormalization())\n",
    "    model.add(Activation('softmax'))\n",
    "    \n",
    "    return model"
   ]
  },
  {
   "cell_type": "code",
   "execution_count": 13,
   "metadata": {},
   "outputs": [],
   "source": [
    "## 超參數設定\n",
    "LEARNING_RATE = 1e-3\n",
    "EPOCHS = 25\n",
    "BATCH_SIZE = 1024\n",
    "MOMENTUM = 0.95"
   ]
  },
  {
   "cell_type": "code",
   "execution_count": 14,
   "metadata": {},
   "outputs": [],
   "source": [
    "# 載入 Callbacks\n",
    "from keras.callbacks import Callback\n",
    "\n",
    "# Record_fp_tp\n",
    "class Record_fp_tp(Callback):\n",
    "    \"\"\"Define a callback function to collect tp/tn, named Record_fp_tp.\n",
    "    \"\"\"\n",
    "    def on_train_begin(self, epoch, logs = {}):\n",
    "        logs = logs or {}\n",
    "        record_items = [\"val_auc\", \"val_f1sc\", \"val_fp\", \"val_fn\", \"val_tp\", \"val_tn\"]\n",
    "        for i in record_items:\n",
    "            if i not in self.params['metrics']:\n",
    "                self.params['metrics'].append(i)\n",
    "                \n",
    "    def on_epoch_end(self, epoch, logs = {}, thres=0.5):\n",
    "        logs = logs or {}\n",
    "        y_true = self.validation_data[1].argmax(axis = 1)\n",
    "        y_pred = self.model.predict(self.validation_data[0])\n",
    "        y_pred = (y_pred[:, 1] >= thres) * 1\n",
    "        \n",
    "        from sklearn.metrics import recall_score\n",
    "        # True positive rate, Recall, Sensitivity \n",
    "        logs['val_tp'] = recall_score(y_true, y_pred, average='weighted')\n",
    "        \n",
    "rec_tptn = Record_fp_tp()"
   ]
  },
  {
   "cell_type": "code",
   "execution_count": 15,
   "metadata": {
    "scrolled": true
   },
   "outputs": [
    {
     "name": "stdout",
     "output_type": "stream",
     "text": [
      "WARNING:tensorflow:From C:\\ProgramData\\Anaconda3\\lib\\site-packages\\tensorflow\\python\\framework\\op_def_library.py:263: colocate_with (from tensorflow.python.framework.ops) is deprecated and will be removed in a future version.\n",
      "Instructions for updating:\n",
      "Colocations handled automatically by placer.\n",
      "WARNING:tensorflow:From C:\\ProgramData\\Anaconda3\\lib\\site-packages\\keras\\backend\\tensorflow_backend.py:3445: calling dropout (from tensorflow.python.ops.nn_ops) with keep_prob is deprecated and will be removed in a future version.\n",
      "Instructions for updating:\n",
      "Please use `rate` instead of `keep_prob`. Rate should be set to `rate = 1 - keep_prob`.\n",
      "_________________________________________________________________\n",
      "Layer (type)                 Output Shape              Param #   \n",
      "=================================================================\n",
      "dense_1 (Dense)              (None, 256)               786688    \n",
      "_________________________________________________________________\n",
      "batch_normalization_1 (Batch (None, 256)               1024      \n",
      "_________________________________________________________________\n",
      "activation_1 (Activation)    (None, 256)               0         \n",
      "_________________________________________________________________\n",
      "dropout_1 (Dropout)          (None, 256)               0         \n",
      "_________________________________________________________________\n",
      "dense_2 (Dense)              (None, 256)               65792     \n",
      "_________________________________________________________________\n",
      "batch_normalization_2 (Batch (None, 256)               1024      \n",
      "_________________________________________________________________\n",
      "activation_2 (Activation)    (None, 256)               0         \n",
      "_________________________________________________________________\n",
      "dropout_2 (Dropout)          (None, 256)               0         \n",
      "_________________________________________________________________\n",
      "dense_3 (Dense)              (None, 256)               65792     \n",
      "_________________________________________________________________\n",
      "batch_normalization_3 (Batch (None, 256)               1024      \n",
      "_________________________________________________________________\n",
      "activation_3 (Activation)    (None, 256)               0         \n",
      "_________________________________________________________________\n",
      "dropout_3 (Dropout)          (None, 256)               0         \n",
      "_________________________________________________________________\n",
      "dense_4 (Dense)              (None, 10)                2570      \n",
      "_________________________________________________________________\n",
      "batch_normalization_4 (Batch (None, 10)                40        \n",
      "_________________________________________________________________\n",
      "activation_4 (Activation)    (None, 10)                0         \n",
      "=================================================================\n",
      "Total params: 923,954\n",
      "Trainable params: 922,398\n",
      "Non-trainable params: 1,556\n",
      "_________________________________________________________________\n",
      "WARNING:tensorflow:From C:\\ProgramData\\Anaconda3\\lib\\site-packages\\tensorflow\\python\\ops\\math_ops.py:3066: to_int32 (from tensorflow.python.ops.math_ops) is deprecated and will be removed in a future version.\n",
      "Instructions for updating:\n",
      "Use tf.cast instead.\n",
      "Train on 50000 samples, validate on 10000 samples\n",
      "Epoch 1/25\n",
      "50000/50000 [==============================] - 6s 113us/step - loss: 2.6301 - acc: 0.1140 - val_loss: 2.2368 - val_acc: 0.1738\n",
      "Epoch 2/25\n",
      "50000/50000 [==============================] - 3s 57us/step - loss: 2.4063 - acc: 0.1587 - val_loss: 2.1234 - val_acc: 0.2293\n",
      "Epoch 3/25\n",
      "50000/50000 [==============================] - 3s 54us/step - loss: 2.2699 - acc: 0.1908 - val_loss: 2.0134 - val_acc: 0.2876\n",
      "Epoch 4/25\n",
      "50000/50000 [==============================] - 2s 48us/step - loss: 2.1869 - acc: 0.2104 - val_loss: 1.9754 - val_acc: 0.3056\n",
      "Epoch 5/25\n",
      "50000/50000 [==============================] - 2s 49us/step - loss: 2.1291 - acc: 0.2255 - val_loss: 1.9620 - val_acc: 0.3150\n",
      "Epoch 6/25\n",
      "50000/50000 [==============================] - 2s 49us/step - loss: 2.0917 - acc: 0.2369 - val_loss: 1.9497 - val_acc: 0.3197\n",
      "Epoch 7/25\n",
      "50000/50000 [==============================] - 2s 49us/step - loss: 2.0641 - acc: 0.2481 - val_loss: 1.9315 - val_acc: 0.3306\n",
      "Epoch 8/25\n",
      "50000/50000 [==============================] - 2s 48us/step - loss: 2.0384 - acc: 0.2565 - val_loss: 1.9200 - val_acc: 0.3337\n",
      "Epoch 9/25\n",
      "50000/50000 [==============================] - 2s 49us/step - loss: 2.0210 - acc: 0.2657 - val_loss: 1.9138 - val_acc: 0.3312\n",
      "Epoch 10/25\n",
      "50000/50000 [==============================] - 2s 49us/step - loss: 2.0085 - acc: 0.2715 - val_loss: 1.8998 - val_acc: 0.3390\n",
      "Epoch 11/25\n",
      "50000/50000 [==============================] - 2s 48us/step - loss: 1.9940 - acc: 0.2752 - val_loss: 1.8904 - val_acc: 0.3423\n",
      "Epoch 12/25\n",
      "50000/50000 [==============================] - 2s 48us/step - loss: 1.9761 - acc: 0.2821 - val_loss: 1.8811 - val_acc: 0.3478\n",
      "Epoch 13/25\n",
      "50000/50000 [==============================] - 2s 49us/step - loss: 1.9729 - acc: 0.2850 - val_loss: 1.8766 - val_acc: 0.3489\n",
      "Epoch 14/25\n",
      "50000/50000 [==============================] - 2s 50us/step - loss: 1.9582 - acc: 0.2934 - val_loss: 1.8700 - val_acc: 0.3514\n",
      "Epoch 15/25\n",
      "50000/50000 [==============================] - 3s 57us/step - loss: 1.9500 - acc: 0.2971 - val_loss: 1.8563 - val_acc: 0.3568\n",
      "Epoch 16/25\n",
      "50000/50000 [==============================] - 2s 48us/step - loss: 1.9369 - acc: 0.2999 - val_loss: 1.8509 - val_acc: 0.3606\n",
      "Epoch 17/25\n",
      "50000/50000 [==============================] - 3s 51us/step - loss: 1.9331 - acc: 0.3006 - val_loss: 1.8407 - val_acc: 0.3607\n",
      "Epoch 18/25\n",
      "50000/50000 [==============================] - 2s 46us/step - loss: 1.9217 - acc: 0.3070 - val_loss: 1.8246 - val_acc: 0.3656\n",
      "Epoch 19/25\n",
      "50000/50000 [==============================] - 3s 52us/step - loss: 1.9130 - acc: 0.3107 - val_loss: 1.8330 - val_acc: 0.3616\n",
      "Epoch 20/25\n",
      "50000/50000 [==============================] - 2s 47us/step - loss: 1.9044 - acc: 0.3149 - val_loss: 1.8275 - val_acc: 0.3650\n",
      "Epoch 21/25\n",
      "50000/50000 [==============================] - 2s 49us/step - loss: 1.8952 - acc: 0.3173 - val_loss: 1.8072 - val_acc: 0.3712\n",
      "Epoch 22/25\n",
      "50000/50000 [==============================] - 2s 48us/step - loss: 1.8902 - acc: 0.3189 - val_loss: 1.8036 - val_acc: 0.3737\n",
      "Epoch 23/25\n",
      "50000/50000 [==============================] - 2s 47us/step - loss: 1.8836 - acc: 0.3236 - val_loss: 1.7898 - val_acc: 0.3775\n",
      "Epoch 24/25\n",
      "50000/50000 [==============================] - 2s 48us/step - loss: 1.8759 - acc: 0.3256 - val_loss: 1.7867 - val_acc: 0.3793\n",
      "Epoch 25/25\n",
      "50000/50000 [==============================] - 2s 49us/step - loss: 1.8708 - acc: 0.3257 - val_loss: 1.7893 - val_acc: 0.3750\n"
     ]
    }
   ],
   "source": [
    "model = build_mlp(input_shape=x_train.shape[1:])\n",
    "model.summary()\n",
    "optimizer = keras.optimizers.SGD(lr=LEARNING_RATE, nesterov=True, momentum=MOMENTUM)\n",
    "model.compile(loss=\"categorical_crossentropy\", metrics=[\"accuracy\"], optimizer=optimizer)\n",
    "\n",
    "\"\"\"\n",
    "To do:\n",
    "Fit the model with rec_tptn callback_fn\n",
    "\"\"\"\n",
    "model.fit(x_train, y_train, \n",
    "          epochs=EPOCHS, \n",
    "          batch_size=BATCH_SIZE, \n",
    "          validation_data=(x_test, y_test), \n",
    "          shuffle=True,\n",
    "          callbacks=[rec_tptn])\n",
    "\n",
    "# Collect results\n",
    "train_loss = model.history.history[\"loss\"]\n",
    "valid_loss = model.history.history[\"val_loss\"]\n",
    "train_acc = model.history.history[\"acc\"]\n",
    "valid_acc = model.history.history[\"val_acc\"]\n",
    "\n",
    "\"\"\"\n",
    "To do:\n",
    "Collect tp/tn from model history\n",
    "\"\"\"\n",
    "valid_tp = model.history.history[\"val_tp\"]\n",
    "valid_tn = [acc * 2 - tp for (acc, tp) in zip(valid_acc, valid_tp)]"
   ]
  },
  {
   "cell_type": "code",
   "execution_count": 16,
   "metadata": {},
   "outputs": [
    {
     "data": {
      "image/png": "[encoded data removed]",
      "text/plain": [
       "<Figure size 432x288 with 1 Axes>"
      ]
     },
     "metadata": {
      "needs_background": "light"
     },
     "output_type": "display_data"
    },
    {
     "data": {
      "image/png": "[encoded data removed]",
      "text/plain": [
       "<Figure size 432x288 with 1 Axes>"
      ]
     },
     "metadata": {
      "needs_background": "light"
     },
     "output_type": "display_data"
    },
    {
     "data": {
      "image/png": "[encoded data removed]",
      "text/plain": [
       "<Figure size 432x288 with 1 Axes>"
      ]
     },
     "metadata": {
      "needs_background": "light"
     },
     "output_type": "display_data"
    }
   ],
   "source": [
    "import matplotlib.pyplot as plt\n",
    "%matplotlib inline\n",
    "\n",
    "plt.plot(range(len(train_loss)), train_loss, label=\"train loss\")\n",
    "plt.plot(range(len(valid_loss)), valid_loss, label=\"valid loss\")\n",
    "plt.legend()\n",
    "plt.title(\"Loss\")\n",
    "plt.show()\n",
    "\n",
    "plt.plot(range(len(train_acc)), train_acc, label=\"train accuracy\")\n",
    "plt.plot(range(len(valid_acc)), valid_acc, label=\"valid accuracy\")\n",
    "plt.legend()\n",
    "plt.title(\"Accuracy\")\n",
    "plt.show()\n",
    "\n",
    "plt.plot(range(len(valid_tp)), valid_tp, label=\"valid tp\", color=\"navy\")\n",
    "plt.plot(range(len(valid_tn)), valid_tn, label=\"valid tn\", color=\"red\")\n",
    "plt.legend()\n",
    "plt.title(\"True positives and True Negatives\")\n",
    "plt.show()"
   ]
  },
  {
   "cell_type": "code",
   "execution_count": null,
   "metadata": {},
   "outputs": [],
   "source": []
  }
 ],
 "metadata": {
  "kernelspec": {
   "display_name": "Python 3",
   "language": "python",
   "name": "python3"
  },
  "language_info": {
   "codemirror_mode": {
    "name": "ipython",
    "version": 3
   },
   "file_extension": ".py",
   "mimetype": "text/x-python",
   "name": "python",
   "nbconvert_exporter": "python",
   "pygments_lexer": "ipython3",
   "version": "3.6.8"
  }
 },
 "nbformat": 4,
 "nbformat_minor": 2
}
