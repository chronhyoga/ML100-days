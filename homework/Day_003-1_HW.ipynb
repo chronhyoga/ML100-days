{
 "cells": [
  {
   "cell_type": "markdown",
   "metadata": {},
   "source": [
    "## 練習時間\n",
    "在小量的資料上，我們用眼睛就可以看得出來程式碼是否有跑出我們理想中的結果\n",
    "\n",
    "請嘗試想像一個你需要的資料結構 (裡面的值可以是隨機的)，然後用上述的方法把它變成 pandas DataFrame\n",
    "\n",
    "#### Ex: 想像一個 dataframe 有兩個欄位，一個是國家，一個是人口，求人口數最多的國家\n",
    "\n",
    "### Hints: [隨機產生數值](https://blog.csdn.net/christianashannon/article/details/78867204)"
   ]
  },
  {
   "cell_type": "code",
   "execution_count": 2,
   "metadata": {},
   "outputs": [],
   "source": [
    "import pandas as pd\n",
    "import numpy as np"
   ]
  },
  {
   "cell_type": "code",
   "execution_count": 7,
   "metadata": {},
   "outputs": [
    {
     "name": "stdout",
     "output_type": "stream",
     "text": [
      "    國家        人口\n",
      "0  國家A  47681210\n",
      "1  國家B  44630449\n",
      "2  國家C  91951454\n",
      "3  國家D  36332230\n",
      "4  國家E  12665069\n",
      "人口數最多的國家:  國家C\n"
     ]
    }
   ],
   "source": [
    "data = {'國家':['國家A','國家B','國家C','國家D','國家E'] ,\n",
    "        '人口': np.random.randint(0,1e8,5)}\n",
    "data = pd.DataFrame(data)\n",
    "print(data)\n",
    "people_max = data['人口'].max()\n",
    "j=0\n",
    "for i in data['人口']:\n",
    "    if i == people_max:\n",
    "        print(\"人口數最多的國家: \", data['國家'][j])\n",
    "        break\n",
    "    else: j=j+1"
   ]
  },
  {
   "cell_type": "code",
   "execution_count": null,
   "metadata": {
    "collapsed": true
   },
   "outputs": [],
   "source": []
  }
 ],
 "metadata": {
  "kernelspec": {
   "display_name": "Python 3",
   "language": "python",
   "name": "python3"
  },
  "language_info": {
   "codemirror_mode": {
    "name": "ipython",
    "version": 3
   },
   "file_extension": ".py",
   "mimetype": "text/x-python",
   "name": "python",
   "nbconvert_exporter": "python",
   "pygments_lexer": "ipython3",
   "version": "3.7.0"
  }
 },
 "nbformat": 4,
 "nbformat_minor": 2
}
