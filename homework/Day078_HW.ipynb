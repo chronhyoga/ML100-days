{
 "cells": [
  {
   "cell_type": "markdown",
   "metadata": {},
   "source": [
    "## Work\n",
    "1. 請嘗試將 preproc_x 替換成以每筆資料的 min/max 進行標準化至 -1 ~ 1 間，再進行訓練\n",
    "2. 請嘗試將 mlp 疊更深 (e.g 5~10 層)，進行訓練後觀察 learning curve 的走勢\n",
    "3. (optional) 請改用 GPU 進行訓練 (如果你有 GPU 的話)，比較使用 CPU 與 GPU 的訓練速度"
   ]
  },
  {
   "cell_type": "code",
   "execution_count": 1,
   "metadata": {},
   "outputs": [
    {
     "name": "stderr",
     "output_type": "stream",
     "text": [
      "Using TensorFlow backend.\n"
     ]
    }
   ],
   "source": [
    "import os\n",
    "import keras\n",
    "\n",
    "# Try to enable GPU (optional)\n",
    "os.environ[\"CUDA_VISIBLE_DEVICES\"] = \"\""
   ]
  },
  {
   "cell_type": "code",
   "execution_count": 2,
   "metadata": {},
   "outputs": [],
   "source": [
    "train, test = keras.datasets.cifar10.load_data()"
   ]
  },
  {
   "cell_type": "code",
   "execution_count": 3,
   "metadata": {},
   "outputs": [],
   "source": [
    "## 資料前處理\n",
    "\"\"\"\n",
    "Your code here\n",
    "\"\"\"\n",
    "def preproc_x(x, flatten = True):\n",
    "    x = x.reshape((len(x), -1))\n",
    "    x = (x - x.min(axis=0)) / (x.max(axis=0) - x.min(axis=0)) * 2 - 1\n",
    "    return x\n",
    "\n",
    "def preproc_y(y, num_classes=10):\n",
    "    if y.shape[-1] == 1:\n",
    "        y = keras.utils.to_categorical(y, num_classes)\n",
    "    return y"
   ]
  },
  {
   "cell_type": "code",
   "execution_count": 4,
   "metadata": {},
   "outputs": [],
   "source": [
    "x_train, y_train = train\n",
    "x_test, y_test = test\n",
    "\n",
    "# Preproc the inputs\n",
    "x_train = preproc_x(x_train)\n",
    "x_test = preproc_x(x_test)\n",
    "\n",
    "# Preprc the outputs\n",
    "y_train = preproc_y(y_train)\n",
    "y_test = preproc_y(y_test)"
   ]
  },
  {
   "cell_type": "code",
   "execution_count": 7,
   "metadata": {},
   "outputs": [
    {
     "name": "stdout",
     "output_type": "stream",
     "text": [
      "_________________________________________________________________\n",
      "Layer (type)                 Output Shape              Param #   \n",
      "=================================================================\n",
      "input_2 (InputLayer)         (None, 3072)              0         \n",
      "_________________________________________________________________\n",
      "hidden_layer1 (Dense)        (None, 512)               1573376   \n",
      "_________________________________________________________________\n",
      "hidden_layer2 (Dense)        (None, 256)               131328    \n",
      "_________________________________________________________________\n",
      "hidden_layer3 (Dense)        (None, 128)               32896     \n",
      "_________________________________________________________________\n",
      "hidden_layer4 (Dense)        (None, 64)                8256      \n",
      "_________________________________________________________________\n",
      "hidden_layer5 (Dense)        (None, 32)                2080      \n",
      "_________________________________________________________________\n",
      "output (Dense)               (None, 10)                330       \n",
      "=================================================================\n",
      "Total params: 1,748,266\n",
      "Trainable params: 1,748,266\n",
      "Non-trainable params: 0\n",
      "_________________________________________________________________\n"
     ]
    }
   ],
   "source": [
    "\"\"\"\n",
    "Your code here\n",
    "\"\"\"\n",
    "def build_mlp(input_shape, output_units=10, num_neurons=[512, 256, 128, 64, 32]):\n",
    "    input_layer = keras.layers.Input(input_shape)\n",
    "    for i, n_units in enumerate(num_neurons):\n",
    "        if i == 0:\n",
    "            x = keras.layers.Dense(units = n_units, activation='relu', name=\"hidden_layer\"+str(i+1))(input_layer)\n",
    "        else:\n",
    "            x = keras.layers.Dense(units = n_units, activation='relu', name=\"hidden_layer\"+str(i+1))(x)\n",
    "    \n",
    "    out = keras.layers.Dense(units = output_units, activation='relu', name=\"output\")(x)\n",
    "    model = keras.models.Model(inputs=[input_layer], outputs=[out])        \n",
    "    return model\n",
    "model = build_mlp(input_shape = x_train.shape[1:])\n",
    "model.summary()"
   ]
  },
  {
   "cell_type": "code",
   "execution_count": 8,
   "metadata": {},
   "outputs": [],
   "source": [
    "## 超參數設定\n",
    "LEARNING_RATE = 0.001\n",
    "EPOCHS = 100\n",
    "BATCH_SIZE = 256"
   ]
  },
  {
   "cell_type": "code",
   "execution_count": 9,
   "metadata": {},
   "outputs": [],
   "source": [
    "optimizer = keras.optimizers.Adam(lr=LEARNING_RATE)\n",
    "model.compile(loss=\"categorical_crossentropy\", metrics=[\"accuracy\"], optimizer=optimizer)"
   ]
  },
  {
   "cell_type": "code",
   "execution_count": 10,
   "metadata": {},
   "outputs": [
    {
     "name": "stdout",
     "output_type": "stream",
     "text": [
      "Train on 50000 samples, validate on 10000 samples\n",
      "Epoch 1/100\n",
      "50000/50000 [==============================] - 22s 442us/step - loss: 2.6775 - acc: 0.2228 - val_loss: 2.0786 - val_acc: 0.3064\n",
      "Epoch 2/100\n",
      "50000/50000 [==============================] - 13s 267us/step - loss: 1.9966 - acc: 0.3165 - val_loss: 1.9773 - val_acc: 0.3026\n",
      "Epoch 3/100\n",
      "50000/50000 [==============================] - 10s 208us/step - loss: 2.0130 - acc: 0.2793 - val_loss: 2.2456 - val_acc: 0.1565\n",
      "Epoch 4/100\n",
      "50000/50000 [==============================] - 11s 212us/step - loss: 2.0669 - acc: 0.2409 - val_loss: 1.9589 - val_acc: 0.3142\n",
      "Epoch 5/100\n",
      "50000/50000 [==============================] - 10s 209us/step - loss: 1.9919 - acc: 0.2967 - val_loss: 2.0492 - val_acc: 0.2349\n",
      "Epoch 6/100\n",
      "50000/50000 [==============================] - 10s 208us/step - loss: 1.9156 - acc: 0.3169 - val_loss: 1.8877 - val_acc: 0.3122\n",
      "Epoch 7/100\n",
      "50000/50000 [==============================] - 11s 214us/step - loss: 2.0934 - acc: 0.2235 - val_loss: 2.3081 - val_acc: 0.1002\n",
      "Epoch 8/100\n",
      "50000/50000 [==============================] - 11s 216us/step - loss: 2.1798 - acc: 0.1283 - val_loss: 2.0921 - val_acc: 0.1629\n",
      "Epoch 9/100\n",
      "50000/50000 [==============================] - 11s 215us/step - loss: 2.0749 - acc: 0.2040 - val_loss: 2.0651 - val_acc: 0.2038\n",
      "Epoch 10/100\n",
      "50000/50000 [==============================] - 11s 215us/step - loss: 2.0120 - acc: 0.2495 - val_loss: 1.9834 - val_acc: 0.2588\n",
      "Epoch 11/100\n",
      "50000/50000 [==============================] - 11s 212us/step - loss: 1.9109 - acc: 0.3094 - val_loss: 1.8718 - val_acc: 0.3219\n",
      "Epoch 12/100\n",
      "50000/50000 [==============================] - 11s 212us/step - loss: 1.8697 - acc: 0.3309 - val_loss: 1.8642 - val_acc: 0.3510\n",
      "Epoch 13/100\n",
      "50000/50000 [==============================] - 11s 224us/step - loss: 1.9819 - acc: 0.2528 - val_loss: 1.9515 - val_acc: 0.3014\n",
      "Epoch 14/100\n",
      "50000/50000 [==============================] - 13s 266us/step - loss: 1.8757 - acc: 0.3311 - val_loss: 1.8675 - val_acc: 0.3260\n",
      "Epoch 15/100\n",
      "50000/50000 [==============================] - 12s 243us/step - loss: 1.8315 - acc: 0.3337 - val_loss: 1.8003 - val_acc: 0.3490\n",
      "Epoch 16/100\n",
      "50000/50000 [==============================] - 10s 206us/step - loss: 1.7849 - acc: 0.3555 - val_loss: 1.7869 - val_acc: 0.3624\n",
      "Epoch 17/100\n",
      "50000/50000 [==============================] - 10s 208us/step - loss: 1.7427 - acc: 0.3758 - val_loss: 1.7402 - val_acc: 0.3849\n",
      "Epoch 18/100\n",
      "50000/50000 [==============================] - 11s 210us/step - loss: 1.7142 - acc: 0.3856 - val_loss: 1.7392 - val_acc: 0.3998\n",
      "Epoch 19/100\n",
      "50000/50000 [==============================] - 10s 204us/step - loss: 1.8459 - acc: 0.3222 - val_loss: 1.9658 - val_acc: 0.2452\n",
      "Epoch 20/100\n",
      "50000/50000 [==============================] - 10s 202us/step - loss: 1.9573 - acc: 0.2821 - val_loss: 1.9015 - val_acc: 0.3022\n",
      "Epoch 21/100\n",
      "50000/50000 [==============================] - 10s 197us/step - loss: 1.8446 - acc: 0.3260 - val_loss: 1.8079 - val_acc: 0.3516\n",
      "Epoch 22/100\n",
      "50000/50000 [==============================] - 10s 207us/step - loss: 1.8444 - acc: 0.3601 - val_loss: 1.9546 - val_acc: 0.2999\n",
      "Epoch 23/100\n",
      "50000/50000 [==============================] - 10s 208us/step - loss: 2.0969 - acc: 0.2387 - val_loss: 1.9812 - val_acc: 0.2514\n",
      "Epoch 24/100\n",
      "50000/50000 [==============================] - 11s 215us/step - loss: 1.9820 - acc: 0.2387 - val_loss: 1.9851 - val_acc: 0.2312\n",
      "Epoch 25/100\n",
      "50000/50000 [==============================] - 10s 208us/step - loss: 1.8867 - acc: 0.3073 - val_loss: 1.8509 - val_acc: 0.3391\n",
      "Epoch 26/100\n",
      "50000/50000 [==============================] - 10s 206us/step - loss: 2.0103 - acc: 0.2284 - val_loss: 1.9523 - val_acc: 0.2459\n",
      "Epoch 27/100\n",
      "50000/50000 [==============================] - 10s 199us/step - loss: 1.8536 - acc: 0.3297 - val_loss: 2.0378 - val_acc: 0.2470\n",
      "Epoch 28/100\n",
      "50000/50000 [==============================] - 10s 206us/step - loss: 2.0444 - acc: 0.2413 - val_loss: 2.0180 - val_acc: 0.2419\n",
      "Epoch 29/100\n",
      "50000/50000 [==============================] - 10s 209us/step - loss: 1.9698 - acc: 0.2933 - val_loss: 1.9489 - val_acc: 0.3248\n",
      "Epoch 30/100\n",
      "50000/50000 [==============================] - 12s 241us/step - loss: 1.8507 - acc: 0.3483 - val_loss: 1.8067 - val_acc: 0.3630\n",
      "Epoch 31/100\n",
      "50000/50000 [==============================] - 11s 217us/step - loss: 1.7633 - acc: 0.3659 - val_loss: 1.7841 - val_acc: 0.3731\n",
      "Epoch 32/100\n",
      "50000/50000 [==============================] - 11s 218us/step - loss: 1.7360 - acc: 0.3720 - val_loss: 1.7947 - val_acc: 0.3628\n",
      "Epoch 33/100\n",
      "50000/50000 [==============================] - 10s 205us/step - loss: 1.7789 - acc: 0.3585 - val_loss: 1.8547 - val_acc: 0.3456\n",
      "Epoch 34/100\n",
      "50000/50000 [==============================] - 10s 202us/step - loss: 1.8447 - acc: 0.3346 - val_loss: 2.0734 - val_acc: 0.2468\n",
      "Epoch 35/100\n",
      "50000/50000 [==============================] - 11s 212us/step - loss: 1.8813 - acc: 0.3195 - val_loss: 1.7929 - val_acc: 0.3583\n",
      "Epoch 36/100\n",
      "50000/50000 [==============================] - 10s 204us/step - loss: 1.7514 - acc: 0.3708 - val_loss: 1.7464 - val_acc: 0.3837\n",
      "Epoch 37/100\n",
      "50000/50000 [==============================] - 10s 208us/step - loss: 1.7763 - acc: 0.3637 - val_loss: 1.8133 - val_acc: 0.3555\n",
      "Epoch 38/100\n",
      "50000/50000 [==============================] - 11s 230us/step - loss: 1.7366 - acc: 0.3784 - val_loss: 1.7415 - val_acc: 0.3810\n",
      "Epoch 39/100\n",
      "50000/50000 [==============================] - 11s 223us/step - loss: 1.7100 - acc: 0.3842 - val_loss: 1.7253 - val_acc: 0.3852\n",
      "Epoch 40/100\n",
      "50000/50000 [==============================] - 10s 195us/step - loss: 1.7633 - acc: 0.3622 - val_loss: 1.8755 - val_acc: 0.3337\n",
      "Epoch 41/100\n",
      "50000/50000 [==============================] - 10s 205us/step - loss: 1.7815 - acc: 0.3670 - val_loss: 1.7600 - val_acc: 0.3811\n",
      "Epoch 42/100\n",
      "50000/50000 [==============================] - 10s 199us/step - loss: 1.7009 - acc: 0.3866 - val_loss: 1.7128 - val_acc: 0.3932\n",
      "Epoch 43/100\n",
      "50000/50000 [==============================] - 10s 197us/step - loss: 1.7162 - acc: 0.3734 - val_loss: 1.9628 - val_acc: 0.2754\n",
      "Epoch 44/100\n",
      "50000/50000 [==============================] - 10s 197us/step - loss: 1.8492 - acc: 0.3046 - val_loss: 1.7899 - val_acc: 0.3346\n",
      "Epoch 45/100\n",
      "50000/50000 [==============================] - 10s 198us/step - loss: 1.7603 - acc: 0.3470 - val_loss: 1.7685 - val_acc: 0.3612\n",
      "Epoch 46/100\n",
      "50000/50000 [==============================] - 10s 195us/step - loss: 1.7327 - acc: 0.3686 - val_loss: 1.7492 - val_acc: 0.3670\n",
      "Epoch 47/100\n",
      "50000/50000 [==============================] - 10s 201us/step - loss: 1.6908 - acc: 0.3799 - val_loss: 1.8870 - val_acc: 0.3024\n",
      "Epoch 48/100\n",
      "50000/50000 [==============================] - 10s 201us/step - loss: 1.7282 - acc: 0.3581 - val_loss: 1.7222 - val_acc: 0.3878\n",
      "Epoch 49/100\n",
      "50000/50000 [==============================] - 10s 201us/step - loss: 1.7766 - acc: 0.3526 - val_loss: 2.1649 - val_acc: 0.1965\n",
      "Epoch 50/100\n",
      "50000/50000 [==============================] - 10s 206us/step - loss: 1.8993 - acc: 0.2956 - val_loss: 1.7659 - val_acc: 0.3600\n",
      "Epoch 51/100\n",
      "50000/50000 [==============================] - 10s 205us/step - loss: 1.7226 - acc: 0.3746 - val_loss: 1.7265 - val_acc: 0.3831\n",
      "Epoch 52/100\n",
      "50000/50000 [==============================] - 10s 203us/step - loss: 1.6733 - acc: 0.3963 - val_loss: 1.6975 - val_acc: 0.3922\n",
      "Epoch 53/100\n",
      "50000/50000 [==============================] - 11s 210us/step - loss: 1.6560 - acc: 0.3969 - val_loss: 1.6906 - val_acc: 0.3935\n",
      "Epoch 54/100\n",
      "50000/50000 [==============================] - 10s 198us/step - loss: 1.6522 - acc: 0.4001 - val_loss: 1.6865 - val_acc: 0.3978\n",
      "Epoch 55/100\n",
      "50000/50000 [==============================] - 10s 201us/step - loss: 1.6559 - acc: 0.3951 - val_loss: 1.6716 - val_acc: 0.4006\n",
      "Epoch 56/100\n",
      "50000/50000 [==============================] - 10s 194us/step - loss: 1.6169 - acc: 0.4083 - val_loss: 1.6579 - val_acc: 0.4003\n",
      "Epoch 57/100\n",
      "50000/50000 [==============================] - 10s 196us/step - loss: 1.5933 - acc: 0.4134 - val_loss: 1.6391 - val_acc: 0.4148\n",
      "Epoch 58/100\n",
      "50000/50000 [==============================] - 10s 208us/step - loss: 1.5771 - acc: 0.4192 - val_loss: 1.6408 - val_acc: 0.4083\n"
     ]
    },
    {
     "name": "stdout",
     "output_type": "stream",
     "text": [
      "Epoch 59/100\n",
      "50000/50000 [==============================] - 12s 234us/step - loss: 1.5947 - acc: 0.4087 - val_loss: 1.6525 - val_acc: 0.4021\n",
      "Epoch 60/100\n",
      "50000/50000 [==============================] - 10s 209us/step - loss: 1.6211 - acc: 0.4060 - val_loss: 1.6480 - val_acc: 0.4102\n",
      "Epoch 61/100\n",
      "50000/50000 [==============================] - 10s 191us/step - loss: 1.5611 - acc: 0.4299 - val_loss: 1.6258 - val_acc: 0.4226\n",
      "Epoch 62/100\n",
      "50000/50000 [==============================] - 9s 188us/step - loss: 1.7187 - acc: 0.3724 - val_loss: 1.7209 - val_acc: 0.3919\n",
      "Epoch 63/100\n",
      "50000/50000 [==============================] - 10s 210us/step - loss: 1.6336 - acc: 0.4085 - val_loss: 1.7345 - val_acc: 0.3966\n",
      "Epoch 64/100\n",
      "50000/50000 [==============================] - 10s 204us/step - loss: 1.6007 - acc: 0.4225 - val_loss: 1.6446 - val_acc: 0.4216\n",
      "Epoch 65/100\n",
      "50000/50000 [==============================] - 10s 197us/step - loss: 1.5368 - acc: 0.4383 - val_loss: 1.6263 - val_acc: 0.4374\n",
      "Epoch 66/100\n",
      "50000/50000 [==============================] - 10s 192us/step - loss: 1.5688 - acc: 0.4328 - val_loss: 1.6556 - val_acc: 0.4237\n",
      "Epoch 67/100\n",
      "50000/50000 [==============================] - 10s 192us/step - loss: 1.6854 - acc: 0.3998 - val_loss: 2.0620 - val_acc: 0.2387\n",
      "Epoch 68/100\n",
      "50000/50000 [==============================] - 9s 189us/step - loss: 1.7485 - acc: 0.3798 - val_loss: 1.6982 - val_acc: 0.4068\n",
      "Epoch 69/100\n",
      "50000/50000 [==============================] - 9s 188us/step - loss: 1.5799 - acc: 0.4314 - val_loss: 1.7681 - val_acc: 0.3778\n",
      "Epoch 70/100\n",
      "50000/50000 [==============================] - 9s 189us/step - loss: 1.5540 - acc: 0.4352 - val_loss: 1.6294 - val_acc: 0.4388\n",
      "Epoch 71/100\n",
      "50000/50000 [==============================] - 10s 193us/step - loss: 1.6064 - acc: 0.4213 - val_loss: 1.7754 - val_acc: 0.3763\n",
      "Epoch 72/100\n",
      "50000/50000 [==============================] - 9s 190us/step - loss: 1.6695 - acc: 0.4023 - val_loss: 1.6977 - val_acc: 0.3982\n",
      "Epoch 73/100\n",
      "50000/50000 [==============================] - 10s 192us/step - loss: 1.6952 - acc: 0.4065 - val_loss: 1.6466 - val_acc: 0.4308\n",
      "Epoch 74/100\n",
      "50000/50000 [==============================] - 9s 188us/step - loss: 1.5880 - acc: 0.4384 - val_loss: 1.9280 - val_acc: 0.3224\n",
      "Epoch 75/100\n",
      "50000/50000 [==============================] - 10s 191us/step - loss: 1.7021 - acc: 0.4099 - val_loss: 1.6592 - val_acc: 0.4252\n",
      "Epoch 76/100\n",
      "50000/50000 [==============================] - 9s 189us/step - loss: 1.6042 - acc: 0.4328 - val_loss: 1.7636 - val_acc: 0.3768\n",
      "Epoch 77/100\n",
      "50000/50000 [==============================] - 9s 188us/step - loss: 1.6064 - acc: 0.4318 - val_loss: 1.6187 - val_acc: 0.4405\n",
      "Epoch 78/100\n",
      "50000/50000 [==============================] - 10s 191us/step - loss: 1.5240 - acc: 0.4553 - val_loss: 1.5991 - val_acc: 0.4500\n",
      "Epoch 79/100\n",
      "50000/50000 [==============================] - 10s 193us/step - loss: 1.4949 - acc: 0.4642 - val_loss: 1.5957 - val_acc: 0.4468\n",
      "Epoch 80/100\n",
      "50000/50000 [==============================] - 9s 188us/step - loss: 1.4630 - acc: 0.4706 - val_loss: 1.5716 - val_acc: 0.4596\n",
      "Epoch 81/100\n",
      "50000/50000 [==============================] - 10s 191us/step - loss: 1.4766 - acc: 0.4702 - val_loss: 1.5916 - val_acc: 0.4403\n",
      "Epoch 82/100\n",
      "50000/50000 [==============================] - 9s 189us/step - loss: 1.4477 - acc: 0.4788 - val_loss: 1.5582 - val_acc: 0.4627\n",
      "Epoch 83/100\n",
      "50000/50000 [==============================] - 9s 190us/step - loss: 1.5360 - acc: 0.4484 - val_loss: 1.5939 - val_acc: 0.4492\n",
      "Epoch 84/100\n",
      "50000/50000 [==============================] - 10s 192us/step - loss: 1.4790 - acc: 0.4725 - val_loss: 1.5980 - val_acc: 0.4459\n",
      "Epoch 85/100\n",
      "50000/50000 [==============================] - 10s 192us/step - loss: 1.4480 - acc: 0.4818 - val_loss: 1.5634 - val_acc: 0.4673\n",
      "Epoch 86/100\n",
      "50000/50000 [==============================] - 10s 192us/step - loss: 1.6070 - acc: 0.4223 - val_loss: 1.6593 - val_acc: 0.4337\n",
      "Epoch 87/100\n",
      "50000/50000 [==============================] - 10s 191us/step - loss: 1.4998 - acc: 0.4702 - val_loss: 1.5635 - val_acc: 0.4642\n",
      "Epoch 88/100\n",
      "50000/50000 [==============================] - 10s 195us/step - loss: 1.4377 - acc: 0.4852 - val_loss: 1.5658 - val_acc: 0.4618\n",
      "Epoch 89/100\n",
      "50000/50000 [==============================] - 10s 207us/step - loss: 1.3960 - acc: 0.4962 - val_loss: 1.5348 - val_acc: 0.4755\n",
      "Epoch 90/100\n",
      "50000/50000 [==============================] - 10s 192us/step - loss: 1.3647 - acc: 0.5061 - val_loss: 1.5248 - val_acc: 0.4795\n",
      "Epoch 91/100\n",
      "50000/50000 [==============================] - 10s 205us/step - loss: 1.3436 - acc: 0.5129 - val_loss: 1.5818 - val_acc: 0.4708\n",
      "Epoch 92/100\n",
      "50000/50000 [==============================] - 11s 214us/step - loss: 1.4126 - acc: 0.4951 - val_loss: 1.5167 - val_acc: 0.4813\n",
      "Epoch 93/100\n",
      "50000/50000 [==============================] - 10s 191us/step - loss: 1.3966 - acc: 0.5007 - val_loss: 1.9218 - val_acc: 0.3203\n",
      "Epoch 94/100\n",
      "50000/50000 [==============================] - 10s 191us/step - loss: 1.5829 - acc: 0.4347 - val_loss: 1.6052 - val_acc: 0.4469\n",
      "Epoch 95/100\n",
      "50000/50000 [==============================] - 10s 193us/step - loss: 1.4032 - acc: 0.4988 - val_loss: 1.5126 - val_acc: 0.4753\n",
      "Epoch 96/100\n",
      "50000/50000 [==============================] - 10s 199us/step - loss: 1.3642 - acc: 0.5116 - val_loss: 1.5874 - val_acc: 0.4581\n",
      "Epoch 97/100\n",
      "50000/50000 [==============================] - 10s 192us/step - loss: 1.5403 - acc: 0.4563 - val_loss: 1.5517 - val_acc: 0.4661\n",
      "Epoch 98/100\n",
      "50000/50000 [==============================] - 10s 194us/step - loss: 1.3548 - acc: 0.5186 - val_loss: 1.5038 - val_acc: 0.4914\n",
      "Epoch 99/100\n",
      "50000/50000 [==============================] - 9s 189us/step - loss: 1.3015 - acc: 0.5344 - val_loss: 1.5188 - val_acc: 0.4957\n",
      "Epoch 100/100\n",
      "50000/50000 [==============================] - 10s 191us/step - loss: 1.2871 - acc: 0.5381 - val_loss: 1.5699 - val_acc: 0.4600\n"
     ]
    },
    {
     "data": {
      "text/plain": [
       "<keras.callbacks.History at 0x2ce4f5df7b8>"
      ]
     },
     "execution_count": 10,
     "metadata": {},
     "output_type": "execute_result"
    }
   ],
   "source": [
    "model.fit(x_train, y_train, \n",
    "          epochs=EPOCHS, \n",
    "          batch_size=BATCH_SIZE, \n",
    "          validation_data=(x_test, y_test), \n",
    "          shuffle=True)"
   ]
  },
  {
   "cell_type": "code",
   "execution_count": 12,
   "metadata": {},
   "outputs": [
    {
     "data": {
      "image/png": "[encoded data removed]",
      "text/plain": [
       "<Figure size 432x288 with 1 Axes>"
      ]
     },
     "metadata": {
      "needs_background": "light"
     },
     "output_type": "display_data"
    },
    {
     "data": {
      "image/png": "[encoded data removed]",
      "text/plain": [
       "<Figure size 432x288 with 1 Axes>"
      ]
     },
     "metadata": {
      "needs_background": "light"
     },
     "output_type": "display_data"
    }
   ],
   "source": [
    "import matplotlib.pyplot as plt\n",
    "%matplotlib inline\n",
    "\n",
    "\n",
    "train_loss = model.history.history[\"loss\"]\n",
    "valid_loss = model.history.history[\"val_loss\"]\n",
    "\n",
    "train_acc = model.history.history[\"acc\"]\n",
    "valid_acc = model.history.history[\"val_acc\"]\n",
    "\n",
    "plt.plot(range(len(train_loss)), train_loss, label=\"train loss\")\n",
    "plt.plot(range(len(valid_loss)), valid_loss, label=\"valid loss\")\n",
    "plt.legend()\n",
    "plt.title(\"Loss\")\n",
    "plt.show()\n",
    "\n",
    "plt.plot(range(len(train_acc)), train_acc, label=\"train accuracy\")\n",
    "plt.plot(range(len(valid_acc)), valid_acc, label=\"valid accuracy\")\n",
    "plt.legend()\n",
    "plt.title(\"Accuracy\")\n",
    "plt.show()"
   ]
  },
  {
   "cell_type": "code",
   "execution_count": null,
   "metadata": {},
   "outputs": [],
   "source": []
  }
 ],
 "metadata": {
  "kernelspec": {
   "display_name": "Python 3",
   "language": "python",
   "name": "python3"
  },
  "language_info": {
   "codemirror_mode": {
    "name": "ipython",
    "version": 3
   },
   "file_extension": ".py",
   "mimetype": "text/x-python",
   "name": "python",
   "nbconvert_exporter": "python",
   "pygments_lexer": "ipython3",
   "version": "3.6.8"
  }
 },
 "nbformat": 4,
 "nbformat_minor": 2
}
