{
 "cells": [
  {
   "cell_type": "markdown",
   "metadata": {},
   "source": [
    "## Work\n",
    "請結合前面的知識與程式碼，比較不同的 regularization 的組合對訓練的結果與影響：如 dropout, regularizers, batch-normalization 等"
   ]
  },
  {
   "cell_type": "code",
   "execution_count": 1,
   "metadata": {},
   "outputs": [
    {
     "name": "stderr",
     "output_type": "stream",
     "text": [
      "Using TensorFlow backend.\n"
     ]
    }
   ],
   "source": [
    "import os\n",
    "import keras\n",
    "import itertools\n",
    "# Disable GPU\n",
    "os.environ[\"CUDA_VISIBLE_DEVICES\"] = \"\""
   ]
  },
  {
   "cell_type": "code",
   "execution_count": 2,
   "metadata": {},
   "outputs": [],
   "source": [
    "train, test = keras.datasets.cifar10.load_data()"
   ]
  },
  {
   "cell_type": "code",
   "execution_count": 3,
   "metadata": {},
   "outputs": [],
   "source": [
    "## 資料前處理\n",
    "def preproc_x(x, flatten=True):\n",
    "    x = x / 255.\n",
    "    if flatten:\n",
    "        x = x.reshape((len(x), -1))\n",
    "    return x\n",
    "\n",
    "def preproc_y(y, num_classes=10):\n",
    "    if y.shape[-1] == 1:\n",
    "        y = keras.utils.to_categorical(y, num_classes)\n",
    "    return y    "
   ]
  },
  {
   "cell_type": "code",
   "execution_count": 4,
   "metadata": {},
   "outputs": [],
   "source": [
    "x_train, y_train = train\n",
    "x_test, y_test = test\n",
    "\n",
    "# Preproc the inputs\n",
    "x_train = preproc_x(x_train)\n",
    "x_test = preproc_x(x_test)\n",
    "\n",
    "# Preprc the outputs\n",
    "y_train = preproc_y(y_train)\n",
    "y_test = preproc_y(y_test)"
   ]
  },
  {
   "cell_type": "code",
   "execution_count": 15,
   "metadata": {},
   "outputs": [],
   "source": [
    "# Hint 1 : 在 Dense 層中增加 Regularizers\n",
    "# Hint 2 : 增加 Dropout 層並設定 dropout ratio \n",
    "# Hint 3 : 增加 Batch-normalization 層\n",
    "from keras.regularizers import l1, l2, l1_l2\n",
    "from keras.layers import Dropout\n",
    "from keras.layers import BatchNormalization\n",
    "def build_mlp(input_shape, output_units=10, num_neurons=[512, 256, 128, 64], l_ratio=1e-8):\n",
    "    input_layer = keras.layers.Input(input_shape)\n",
    "    x = BatchNormalization()(input_layer)\n",
    "    for i, n_units in enumerate(num_neurons):\n",
    "        if i == 0:\n",
    "            x = keras.layers.Dense(units=n_units, activation='relu', \n",
    "                                   name=\"hidden_layer\"+str(i+1), \n",
    "                                   kernel_regularizer=l2(l_ratio))(input_layer)\n",
    "            x = Dropout(0.15)(x)\n",
    "        else:\n",
    "            x = keras.layers.Dense(units=n_units, activation='relu', \n",
    "                                   name=\"hidden_layer\"+str(i+1), \n",
    "                                   kernel_regularizer=l2(l_ratio))(x)\n",
    "            x = Dropout(0.15)(x)\n",
    "        out = keras.layers.Dense(units=output_units, activation='softmax', name='output')(x)\n",
    "    model = keras.models.Model(inputs=[input_layer], outputs=[out])\n",
    "    return model"
   ]
  },
  {
   "cell_type": "code",
   "execution_count": 16,
   "metadata": {},
   "outputs": [],
   "source": [
    "## 超參數設定\n",
    "LEARNING_RATE = 1e-3\n",
    "EPOCHS = 40\n",
    "BATCH_SIZE = 256\n",
    "MOMENTUM = 0.95"
   ]
  },
  {
   "cell_type": "code",
   "execution_count": 17,
   "metadata": {
    "scrolled": true
   },
   "outputs": [
    {
     "name": "stdout",
     "output_type": "stream",
     "text": [
      "_________________________________________________________________\n",
      "Layer (type)                 Output Shape              Param #   \n",
      "=================================================================\n",
      "input_5 (InputLayer)         (None, 3072)              0         \n",
      "_________________________________________________________________\n",
      "hidden_layer1 (Dense)        (None, 512)               1573376   \n",
      "_________________________________________________________________\n",
      "dropout_17 (Dropout)         (None, 512)               0         \n",
      "_________________________________________________________________\n",
      "hidden_layer2 (Dense)        (None, 256)               131328    \n",
      "_________________________________________________________________\n",
      "dropout_18 (Dropout)         (None, 256)               0         \n",
      "_________________________________________________________________\n",
      "hidden_layer3 (Dense)        (None, 128)               32896     \n",
      "_________________________________________________________________\n",
      "dropout_19 (Dropout)         (None, 128)               0         \n",
      "_________________________________________________________________\n",
      "hidden_layer4 (Dense)        (None, 64)                8256      \n",
      "_________________________________________________________________\n",
      "dropout_20 (Dropout)         (None, 64)                0         \n",
      "_________________________________________________________________\n",
      "output (Dense)               (None, 10)                650       \n",
      "=================================================================\n",
      "Total params: 1,746,506\n",
      "Trainable params: 1,746,506\n",
      "Non-trainable params: 0\n",
      "_________________________________________________________________\n",
      "Train on 50000 samples, validate on 10000 samples\n",
      "Epoch 1/40\n",
      "50000/50000 [==============================] - 4s 90us/step - loss: 2.2021 - acc: 0.1687 - val_loss: 2.0342 - val_acc: 0.2721\n",
      "Epoch 2/40\n",
      "50000/50000 [==============================] - 3s 67us/step - loss: 2.0307 - acc: 0.2484 - val_loss: 1.9283 - val_acc: 0.3211\n",
      "Epoch 3/40\n",
      "50000/50000 [==============================] - 3s 69us/step - loss: 1.9474 - acc: 0.2869 - val_loss: 1.8521 - val_acc: 0.3495\n",
      "Epoch 4/40\n",
      "50000/50000 [==============================] - 4s 76us/step - loss: 1.8872 - acc: 0.3155 - val_loss: 1.7883 - val_acc: 0.3723\n",
      "Epoch 5/40\n",
      "50000/50000 [==============================] - 4s 82us/step - loss: 1.8394 - acc: 0.3358 - val_loss: 1.7359 - val_acc: 0.3873ETA: 0s - loss: 1.8414 - a\n",
      "Epoch 6/40\n",
      "50000/50000 [==============================] - 4s 74us/step - loss: 1.7962 - acc: 0.3528 - val_loss: 1.6873 - val_acc: 0.3976\n",
      "Epoch 7/40\n",
      "50000/50000 [==============================] - 3s 63us/step - loss: 1.7611 - acc: 0.3668 - val_loss: 1.6521 - val_acc: 0.4123\n",
      "Epoch 8/40\n",
      "50000/50000 [==============================] - 3s 58us/step - loss: 1.7301 - acc: 0.3791 - val_loss: 1.6301 - val_acc: 0.4245\n",
      "Epoch 9/40\n",
      "50000/50000 [==============================] - 3s 58us/step - loss: 1.6984 - acc: 0.3915 - val_loss: 1.6022 - val_acc: 0.4353\n",
      "Epoch 10/40\n",
      "50000/50000 [==============================] - 3s 57us/step - loss: 1.6688 - acc: 0.4030 - val_loss: 1.5682 - val_acc: 0.4407\n",
      "Epoch 11/40\n",
      "50000/50000 [==============================] - 3s 58us/step - loss: 1.6475 - acc: 0.4126 - val_loss: 1.5466 - val_acc: 0.4473\n",
      "Epoch 12/40\n",
      "50000/50000 [==============================] - 3s 60us/step - loss: 1.6252 - acc: 0.4217 - val_loss: 1.5334 - val_acc: 0.4544\n",
      "Epoch 13/40\n",
      "50000/50000 [==============================] - 3s 59us/step - loss: 1.6051 - acc: 0.4290 - val_loss: 1.5141 - val_acc: 0.4580\n",
      "Epoch 14/40\n",
      "50000/50000 [==============================] - 3s 63us/step - loss: 1.5865 - acc: 0.4338 - val_loss: 1.5125 - val_acc: 0.4559\n",
      "Epoch 15/40\n",
      "50000/50000 [==============================] - 3s 65us/step - loss: 1.5689 - acc: 0.4396 - val_loss: 1.4883 - val_acc: 0.4672\n",
      "Epoch 16/40\n",
      "50000/50000 [==============================] - 3s 65us/step - loss: 1.5551 - acc: 0.4449 - val_loss: 1.4706 - val_acc: 0.4760\n",
      "Epoch 17/40\n",
      "50000/50000 [==============================] - 3s 64us/step - loss: 1.5399 - acc: 0.4508 - val_loss: 1.4692 - val_acc: 0.4753\n",
      "Epoch 18/40\n",
      "50000/50000 [==============================] - 3s 64us/step - loss: 1.5281 - acc: 0.4546 - val_loss: 1.4512 - val_acc: 0.4825\n",
      "Epoch 19/40\n",
      "50000/50000 [==============================] - 3s 63us/step - loss: 1.5076 - acc: 0.4616 - val_loss: 1.4531 - val_acc: 0.4824\n",
      "Epoch 20/40\n",
      "50000/50000 [==============================] - 3s 64us/step - loss: 1.4942 - acc: 0.4686 - val_loss: 1.4350 - val_acc: 0.4887\n",
      "Epoch 21/40\n",
      "50000/50000 [==============================] - 3s 62us/step - loss: 1.4855 - acc: 0.4725 - val_loss: 1.4315 - val_acc: 0.4893\n",
      "Epoch 22/40\n",
      "50000/50000 [==============================] - 4s 71us/step - loss: 1.4661 - acc: 0.4749 - val_loss: 1.4176 - val_acc: 0.4952\n",
      "Epoch 23/40\n",
      "50000/50000 [==============================] - 3s 62us/step - loss: 1.4536 - acc: 0.4824 - val_loss: 1.4182 - val_acc: 0.4930\n",
      "Epoch 24/40\n",
      "50000/50000 [==============================] - 3s 60us/step - loss: 1.4437 - acc: 0.4829 - val_loss: 1.4075 - val_acc: 0.4934\n",
      "Epoch 25/40\n",
      "50000/50000 [==============================] - 3s 68us/step - loss: 1.4375 - acc: 0.4878 - val_loss: 1.4033 - val_acc: 0.5030\n",
      "Epoch 26/40\n",
      "50000/50000 [==============================] - 3s 65us/step - loss: 1.4224 - acc: 0.4901 - val_loss: 1.3948 - val_acc: 0.5023\n",
      "Epoch 27/40\n",
      "50000/50000 [==============================] - 3s 62us/step - loss: 1.4119 - acc: 0.4948 - val_loss: 1.3907 - val_acc: 0.5033\n",
      "Epoch 28/40\n",
      "50000/50000 [==============================] - 3s 60us/step - loss: 1.4012 - acc: 0.4999 - val_loss: 1.3870 - val_acc: 0.5049\n",
      "Epoch 29/40\n",
      "50000/50000 [==============================] - 3s 61us/step - loss: 1.3883 - acc: 0.5069 - val_loss: 1.3726 - val_acc: 0.5103\n",
      "Epoch 30/40\n",
      "50000/50000 [==============================] - 3s 61us/step - loss: 1.3806 - acc: 0.5077 - val_loss: 1.3634 - val_acc: 0.5132\n",
      "Epoch 31/40\n",
      "50000/50000 [==============================] - 3s 61us/step - loss: 1.3751 - acc: 0.5105 - val_loss: 1.3576 - val_acc: 0.5140\n",
      "Epoch 32/40\n",
      "50000/50000 [==============================] - 3s 61us/step - loss: 1.3597 - acc: 0.5162 - val_loss: 1.3581 - val_acc: 0.5140\n",
      "Epoch 33/40\n",
      "50000/50000 [==============================] - 3s 60us/step - loss: 1.3551 - acc: 0.5165 - val_loss: 1.3660 - val_acc: 0.5076\n",
      "Epoch 34/40\n",
      "50000/50000 [==============================] - 3s 60us/step - loss: 1.3459 - acc: 0.5193 - val_loss: 1.3527 - val_acc: 0.5141\n",
      "Epoch 35/40\n",
      "50000/50000 [==============================] - 3s 62us/step - loss: 1.3344 - acc: 0.5228 - val_loss: 1.3430 - val_acc: 0.5176\n",
      "Epoch 36/40\n",
      "50000/50000 [==============================] - 3s 61us/step - loss: 1.3253 - acc: 0.5272 - val_loss: 1.3381 - val_acc: 0.5228\n",
      "Epoch 37/40\n",
      "50000/50000 [==============================] - 3s 61us/step - loss: 1.3174 - acc: 0.5298 - val_loss: 1.3351 - val_acc: 0.5221\n",
      "Epoch 38/40\n",
      "50000/50000 [==============================] - 3s 61us/step - loss: 1.3089 - acc: 0.5338 - val_loss: 1.3434 - val_acc: 0.5182\n",
      "Epoch 39/40\n",
      "50000/50000 [==============================] - 3s 61us/step - loss: 1.3041 - acc: 0.5337 - val_loss: 1.3300 - val_acc: 0.5275\n",
      "Epoch 40/40\n",
      "50000/50000 [==============================] - 3s 62us/step - loss: 1.2898 - acc: 0.5376 - val_loss: 1.3289 - val_acc: 0.5275\n"
     ]
    }
   ],
   "source": [
    "results = {}\n",
    "model = build_mlp(input_shape=x_train.shape[1:])\n",
    "model.summary()\n",
    "optimizer = keras.optimizers.SGD(lr=LEARNING_RATE, nesterov=True, momentum=MOMENTUM)\n",
    "model.compile(loss=\"categorical_crossentropy\", metrics=[\"accuracy\"], optimizer=optimizer)\n",
    "\n",
    "model.fit(x_train, y_train, \n",
    "          epochs=EPOCHS, \n",
    "          batch_size=BATCH_SIZE, \n",
    "          validation_data=(x_test, y_test), \n",
    "          shuffle=True)\n",
    "\n",
    "# Collect results\n",
    "train_loss = model.history.history[\"loss\"]\n",
    "valid_loss = model.history.history[\"val_loss\"]\n",
    "train_acc = model.history.history[\"acc\"]\n",
    "valid_acc = model.history.history[\"val_acc\"]\n",
    "\n",
    "exp_name_tag = f\"batch_size_{BATCH_SIZE}\"\n",
    "results[exp_name_tag] = {'train-loss': train_loss,\n",
    "                         'valid-loss': valid_loss,\n",
    "                         'train-acc': train_acc,\n",
    "                         'valid-acc': valid_acc}"
   ]
  },
  {
   "cell_type": "code",
   "execution_count": 18,
   "metadata": {},
   "outputs": [
    {
     "data": {
      "image/png": "[encoded data removed]",
      "text/plain": [
       "<Figure size 432x288 with 1 Axes>"
      ]
     },
     "metadata": {
      "needs_background": "light"
     },
     "output_type": "display_data"
    },
    {
     "data": {
      "image/png": "[encoded data removed]",
      "text/plain": [
       "<Figure size 432x288 with 1 Axes>"
      ]
     },
     "metadata": {
      "needs_background": "light"
     },
     "output_type": "display_data"
    }
   ],
   "source": [
    "import matplotlib.pyplot as plt\n",
    "%matplotlib inline\n",
    "\n",
    "plt.plot(range(len(train_loss)), train_loss, label=\"train loss\")\n",
    "plt.plot(range(len(valid_loss)), valid_loss, label=\"valid loss\")\n",
    "plt.legend()\n",
    "plt.title(\"Loss\")\n",
    "plt.show()\n",
    "\n",
    "plt.plot(range(len(train_acc)), train_acc, label=\"train accuracy\")\n",
    "plt.plot(range(len(valid_acc)), valid_acc, label=\"valid accuracy\")\n",
    "plt.legend()\n",
    "plt.title(\"Accuracy\")\n",
    "plt.show()"
   ]
  },
  {
   "cell_type": "code",
   "execution_count": null,
   "metadata": {},
   "outputs": [],
   "source": []
  }
 ],
 "metadata": {
  "kernelspec": {
   "display_name": "Python 3",
   "language": "python",
   "name": "python3"
  },
  "language_info": {
   "codemirror_mode": {
    "name": "ipython",
    "version": 3
   },
   "file_extension": ".py",
   "mimetype": "text/x-python",
   "name": "python",
   "nbconvert_exporter": "python",
   "pygments_lexer": "ipython3",
   "version": "3.6.8"
  }
 },
 "nbformat": 4,
 "nbformat_minor": 2
}
