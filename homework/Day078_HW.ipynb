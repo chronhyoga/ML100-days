{
 "cells": [
  {
   "cell_type": "markdown",
   "metadata": {},
   "source": [
    "## Work\n",
    "1. 請嘗試將 preproc_x 替換成以每筆資料的 min/max 進行標準化至 -1 ~ 1 間，再進行訓練\n",
    "2. 請嘗試將 mlp 疊更深 (e.g 5~10 層)，進行訓練後觀察 learning curve 的走勢\n",
    "3. (optional) 請改用 GPU 進行訓練 (如果你有 GPU 的話)，比較使用 CPU 與 GPU 的訓練速度"
   ]
  },
  {
   "cell_type": "code",
   "execution_count": 14,
   "metadata": {},
   "outputs": [],
   "source": [
    "import os\n",
    "import keras\n",
    "\n",
    "# Try to enable GPU (optional)"
   ]
  },
  {
   "cell_type": "code",
   "execution_count": 24,
   "metadata": {},
   "outputs": [],
   "source": [
    "train, test = keras.datasets.cifar10.load_data()"
   ]
  },
  {
   "cell_type": "code",
   "execution_count": 25,
   "metadata": {},
   "outputs": [],
   "source": [
    "## 資料前處理\n",
    "\"\"\"\n",
    "Your code here\n",
    "\"\"\"\n",
    "def preproc_x(x, flatten=True):\n",
    "    x = 2*(((x - x.min()) / (x.max() - x.min()))-0.5)\n",
    "    if flatten:\n",
    "        x = x.reshape((len(x), -1))\n",
    "    return x\n",
    "\n",
    "def preproc_y(y, num_classes=10):\n",
    "    if y.shape[-1] == 1:\n",
    "        y = keras.utils.to_categorical(y, num_classes)\n",
    "    return y"
   ]
  },
  {
   "cell_type": "code",
   "execution_count": 26,
   "metadata": {},
   "outputs": [],
   "source": [
    "x_train, y_train = train\n",
    "x_test, y_test = test\n",
    "\n",
    "# Preproc the inputs\n",
    "x_train = preproc_x(x_train)\n",
    "x_test = preproc_x(x_test)\n",
    "\n",
    "# Preprc the outputs\n",
    "y_train = preproc_y(y_train)\n",
    "y_test = preproc_y(y_test)"
   ]
  },
  {
   "cell_type": "code",
   "execution_count": 27,
   "metadata": {},
   "outputs": [
    {
     "data": {
      "text/plain": [
       "(50000, 3072)"
      ]
     },
     "execution_count": 27,
     "metadata": {},
     "output_type": "execute_result"
    }
   ],
   "source": [
    "x_train.shape"
   ]
  },
  {
   "cell_type": "code",
   "execution_count": 29,
   "metadata": {},
   "outputs": [
    {
     "name": "stdout",
     "output_type": "stream",
     "text": [
      "_________________________________________________________________\n",
      "Layer (type)                 Output Shape              Param #   \n",
      "=================================================================\n",
      "input_4 (InputLayer)         (None, 3072)              0         \n",
      "_________________________________________________________________\n",
      "hidden_layer1 (Dense)        (None, 512)               1573376   \n",
      "_________________________________________________________________\n",
      "hidden_layer2 (Dense)        (None, 256)               131328    \n",
      "_________________________________________________________________\n",
      "hidden_layer3 (Dense)        (None, 128)               32896     \n",
      "_________________________________________________________________\n",
      "hidden_layer4 (Dense)        (None, 64)                8256      \n",
      "_________________________________________________________________\n",
      "hidden_layer5 (Dense)        (None, 32)                2080      \n",
      "_________________________________________________________________\n",
      "output (Dense)               (None, 10)                330       \n",
      "=================================================================\n",
      "Total params: 1,748,266\n",
      "Trainable params: 1,748,266\n",
      "Non-trainable params: 0\n",
      "_________________________________________________________________\n"
     ]
    }
   ],
   "source": [
    "\"\"\"\n",
    "Your code here\n",
    "\"\"\"\n",
    "def build_mlp(input_shape, output_units=10, num_neurons=[512, 256, 128, 64, 32]):\n",
    "    input_layer = keras.layers.Input(input_shape)\n",
    "    \n",
    "    for i, n_units in enumerate(num_neurons):\n",
    "        if i == 0:\n",
    "            x = keras.layers.Dense(units=n_units, activation=\"relu\", name=\"hidden_layer\"+str(i+1))(input_layer)\n",
    "        else:\n",
    "            x = keras.layers.Dense(units=n_units, activation=\"relu\", name=\"hidden_layer\"+str(i+1))(x)\n",
    "    \n",
    "    out = keras.layers.Dense(units=output_units, activation=\"softmax\", name=\"output\")(x)\n",
    "    \n",
    "    model = keras.models.Model(inputs=[input_layer], outputs=[out])\n",
    "    return model\n",
    "\n",
    "model = build_mlp((x_train.shape[1],))\n",
    "model.summary()"
   ]
  },
  {
   "cell_type": "code",
   "execution_count": 34,
   "metadata": {},
   "outputs": [],
   "source": [
    "## 超參數設定\n",
    "LEARNING_RATE = 0.001\n",
    "EPOCHS = 100\n",
    "BATCH_SIZE = 256"
   ]
  },
  {
   "cell_type": "code",
   "execution_count": 35,
   "metadata": {},
   "outputs": [],
   "source": [
    "optimizer = keras.optimizers.Adam(lr=LEARNING_RATE)\n",
    "model.compile(loss=\"categorical_crossentropy\", metrics=[\"accuracy\"], optimizer=optimizer)"
   ]
  },
  {
   "cell_type": "code",
   "execution_count": 37,
   "metadata": {},
   "outputs": [
    {
     "name": "stdout",
     "output_type": "stream",
     "text": [
      "Train on 50000 samples, validate on 10000 samples\n",
      "Epoch 1/100\n",
      "50000/50000 [==============================] - 11s 213us/step - loss: 1.1965 - acc: 0.5811 - val_loss: 1.3763 - val_acc: 0.5193\n",
      "Epoch 2/100\n",
      "50000/50000 [==============================] - 11s 222us/step - loss: 1.1147 - acc: 0.6063 - val_loss: 1.3638 - val_acc: 0.5250\n",
      "Epoch 3/100\n",
      "50000/50000 [==============================] - 11s 216us/step - loss: 1.0325 - acc: 0.6371 - val_loss: 1.3867 - val_acc: 0.5211\n",
      "Epoch 4/100\n",
      "50000/50000 [==============================] - 9s 176us/step - loss: 0.9592 - acc: 0.6616 - val_loss: 1.3833 - val_acc: 0.5348\n",
      "Epoch 5/100\n",
      "50000/50000 [==============================] - 9s 179us/step - loss: 0.8978 - acc: 0.6825 - val_loss: 1.4138 - val_acc: 0.5330\n",
      "Epoch 6/100\n",
      "50000/50000 [==============================] - 9s 177us/step - loss: 0.8327 - acc: 0.7078 - val_loss: 1.4682 - val_acc: 0.5351\n",
      "Epoch 7/100\n",
      "50000/50000 [==============================] - 9s 177us/step - loss: 0.7588 - acc: 0.7329 - val_loss: 1.5428 - val_acc: 0.5348\n",
      "Epoch 8/100\n",
      "50000/50000 [==============================] - 9s 176us/step - loss: 0.7016 - acc: 0.7537 - val_loss: 1.5937 - val_acc: 0.5302\n",
      "Epoch 9/100\n",
      "50000/50000 [==============================] - 9s 178us/step - loss: 0.6395 - acc: 0.7730 - val_loss: 1.6295 - val_acc: 0.5348\n",
      "Epoch 10/100\n",
      "50000/50000 [==============================] - 9s 176us/step - loss: 0.5885 - acc: 0.7925 - val_loss: 1.7311 - val_acc: 0.5336\n",
      "Epoch 11/100\n",
      "50000/50000 [==============================] - 9s 176us/step - loss: 0.5302 - acc: 0.8116 - val_loss: 1.7496 - val_acc: 0.5331\n",
      "Epoch 12/100\n",
      "50000/50000 [==============================] - 9s 180us/step - loss: 0.4915 - acc: 0.8269 - val_loss: 1.8687 - val_acc: 0.5250\n",
      "Epoch 13/100\n",
      "50000/50000 [==============================] - 9s 177us/step - loss: 0.4407 - acc: 0.8457 - val_loss: 1.9039 - val_acc: 0.5326\n",
      "Epoch 14/100\n",
      "50000/50000 [==============================] - 9s 178us/step - loss: 0.4053 - acc: 0.8573 - val_loss: 2.0143 - val_acc: 0.5305\n",
      "Epoch 15/100\n",
      "50000/50000 [==============================] - 9s 176us/step - loss: 0.3741 - acc: 0.8684 - val_loss: 2.1444 - val_acc: 0.5280\n",
      "Epoch 16/100\n",
      "50000/50000 [==============================] - 9s 179us/step - loss: 0.3521 - acc: 0.8754 - val_loss: 2.1825 - val_acc: 0.5284\n",
      "Epoch 17/100\n",
      "50000/50000 [==============================] - 9s 183us/step - loss: 0.3151 - acc: 0.8895 - val_loss: 2.2685 - val_acc: 0.5283\n",
      "Epoch 18/100\n",
      "50000/50000 [==============================] - 11s 221us/step - loss: 0.3101 - acc: 0.8918 - val_loss: 2.3949 - val_acc: 0.5253\n",
      "Epoch 19/100\n",
      "50000/50000 [==============================] - 12s 242us/step - loss: 0.2936 - acc: 0.8973 - val_loss: 2.3833 - val_acc: 0.5323\n",
      "Epoch 20/100\n",
      "50000/50000 [==============================] - 10s 202us/step - loss: 0.2483 - acc: 0.9141 - val_loss: 2.5303 - val_acc: 0.5304\n",
      "Epoch 21/100\n",
      "50000/50000 [==============================] - 11s 216us/step - loss: 0.2551 - acc: 0.9110 - val_loss: 2.6007 - val_acc: 0.5359\n",
      "Epoch 22/100\n",
      "50000/50000 [==============================] - 14s 278us/step - loss: 0.2478 - acc: 0.9144 - val_loss: 2.6442 - val_acc: 0.5311\n",
      "Epoch 23/100\n",
      "50000/50000 [==============================] - 14s 284us/step - loss: 0.2292 - acc: 0.9210 - val_loss: 2.7152 - val_acc: 0.5273\n",
      "Epoch 24/100\n",
      "50000/50000 [==============================] - 12s 231us/step - loss: 0.2118 - acc: 0.9263 - val_loss: 2.8294 - val_acc: 0.5275\n",
      "Epoch 25/100\n",
      "50000/50000 [==============================] - 10s 206us/step - loss: 0.1911 - acc: 0.9337 - val_loss: 2.8981 - val_acc: 0.5297\n",
      "Epoch 26/100\n",
      "50000/50000 [==============================] - 10s 204us/step - loss: 0.1911 - acc: 0.9350 - val_loss: 2.9761 - val_acc: 0.5269\n",
      "Epoch 27/100\n",
      "50000/50000 [==============================] - 10s 200us/step - loss: 0.1662 - acc: 0.9419 - val_loss: 2.9906 - val_acc: 0.5302\n",
      "Epoch 28/100\n",
      "50000/50000 [==============================] - 10s 200us/step - loss: 0.1881 - acc: 0.9363 - val_loss: 2.9847 - val_acc: 0.5241\n",
      "Epoch 29/100\n",
      "50000/50000 [==============================] - 10s 203us/step - loss: 0.1780 - acc: 0.9385 - val_loss: 3.1280 - val_acc: 0.5188\n",
      "Epoch 30/100\n",
      "50000/50000 [==============================] - 10s 203us/step - loss: 0.1648 - acc: 0.9437 - val_loss: 3.1480 - val_acc: 0.5258\n",
      "Epoch 31/100\n",
      "50000/50000 [==============================] - 11s 227us/step - loss: 0.1665 - acc: 0.9427 - val_loss: 3.0953 - val_acc: 0.5245\n",
      "Epoch 32/100\n",
      "50000/50000 [==============================] - 15s 307us/step - loss: 0.1637 - acc: 0.9447 - val_loss: 3.1944 - val_acc: 0.5176\n",
      "Epoch 33/100\n",
      "50000/50000 [==============================] - 10s 209us/step - loss: 0.1365 - acc: 0.9518 - val_loss: 3.2468 - val_acc: 0.5279\n",
      "Epoch 34/100\n",
      "50000/50000 [==============================] - 12s 241us/step - loss: 0.1306 - acc: 0.9555 - val_loss: 3.3163 - val_acc: 0.5200\n",
      "Epoch 35/100\n",
      "50000/50000 [==============================] - 14s 272us/step - loss: 0.1410 - acc: 0.9516 - val_loss: 3.3713 - val_acc: 0.5210\n",
      "Epoch 36/100\n",
      "50000/50000 [==============================] - 9s 183us/step - loss: 0.1405 - acc: 0.9513 - val_loss: 3.2394 - val_acc: 0.5301\n",
      "Epoch 37/100\n",
      "50000/50000 [==============================] - 12s 246us/step - loss: 0.1631 - acc: 0.9453 - val_loss: 3.2388 - val_acc: 0.5333\n",
      "Epoch 38/100\n",
      "50000/50000 [==============================] - 13s 252us/step - loss: 0.1411 - acc: 0.9525 - val_loss: 3.2853 - val_acc: 0.5260\n",
      "Epoch 39/100\n",
      "50000/50000 [==============================] - 11s 219us/step - loss: 0.1209 - acc: 0.9586 - val_loss: 3.3912 - val_acc: 0.5258\n",
      "Epoch 40/100\n",
      "50000/50000 [==============================] - 10s 208us/step - loss: 0.1172 - acc: 0.9602 - val_loss: 3.4111 - val_acc: 0.5328\n",
      "Epoch 41/100\n",
      "50000/50000 [==============================] - 14s 289us/step - loss: 0.1344 - acc: 0.9540 - val_loss: 3.4294 - val_acc: 0.5249\n",
      "Epoch 42/100\n",
      "50000/50000 [==============================] - 13s 264us/step - loss: 0.1122 - acc: 0.9637 - val_loss: 3.4561 - val_acc: 0.5297\n",
      "Epoch 43/100\n",
      "50000/50000 [==============================] - 11s 229us/step - loss: 0.1270 - acc: 0.9577 - val_loss: 3.5231 - val_acc: 0.5217\n",
      "Epoch 44/100\n",
      "50000/50000 [==============================] - 10s 206us/step - loss: 0.1307 - acc: 0.9564 - val_loss: 3.4899 - val_acc: 0.5215\n",
      "Epoch 45/100\n",
      "50000/50000 [==============================] - 9s 176us/step - loss: 0.1397 - acc: 0.9529 - val_loss: 3.3807 - val_acc: 0.5316\n",
      "Epoch 46/100\n",
      "50000/50000 [==============================] - 9s 177us/step - loss: 0.0887 - acc: 0.9707 - val_loss: 3.6279 - val_acc: 0.5249\n",
      "Epoch 47/100\n",
      "50000/50000 [==============================] - 9s 176us/step - loss: 0.0888 - acc: 0.9703 - val_loss: 3.6107 - val_acc: 0.5357\n",
      "Epoch 48/100\n",
      "50000/50000 [==============================] - 9s 176us/step - loss: 0.0918 - acc: 0.9694 - val_loss: 3.6088 - val_acc: 0.5360\n",
      "Epoch 49/100\n",
      "50000/50000 [==============================] - 9s 176us/step - loss: 0.1227 - acc: 0.9588 - val_loss: 3.5300 - val_acc: 0.5238\n",
      "Epoch 50/100\n",
      "50000/50000 [==============================] - 9s 176us/step - loss: 0.1285 - acc: 0.9569 - val_loss: 3.5069 - val_acc: 0.5305\n",
      "Epoch 51/100\n",
      "50000/50000 [==============================] - 9s 176us/step - loss: 0.0893 - acc: 0.9699 - val_loss: 3.6367 - val_acc: 0.5279\n",
      "Epoch 52/100\n",
      "50000/50000 [==============================] - 9s 182us/step - loss: 0.1026 - acc: 0.9661 - val_loss: 3.6224 - val_acc: 0.5252\n",
      "Epoch 53/100\n",
      "50000/50000 [==============================] - 10s 199us/step - loss: 0.1035 - acc: 0.9648 - val_loss: 3.6508 - val_acc: 0.5225\n",
      "Epoch 54/100\n",
      "50000/50000 [==============================] - 11s 216us/step - loss: 0.1101 - acc: 0.9630 - val_loss: 3.5787 - val_acc: 0.5354\n",
      "Epoch 55/100\n",
      "50000/50000 [==============================] - 13s 255us/step - loss: 0.0759 - acc: 0.9745 - val_loss: 3.7658 - val_acc: 0.5255\n",
      "Epoch 56/100\n",
      "50000/50000 [==============================] - 12s 243us/step - loss: 0.0947 - acc: 0.9690 - val_loss: 3.6691 - val_acc: 0.5288\n",
      "Epoch 57/100\n",
      "50000/50000 [==============================] - 12s 242us/step - loss: 0.1088 - acc: 0.9651 - val_loss: 3.7359 - val_acc: 0.5211\n",
      "Epoch 58/100\n",
      "50000/50000 [==============================] - 12s 243us/step - loss: 0.0905 - acc: 0.9712 - val_loss: 3.7561 - val_acc: 0.5198\n"
     ]
    },
    {
     "name": "stdout",
     "output_type": "stream",
     "text": [
      "Epoch 59/100\n",
      "50000/50000 [==============================] - 12s 243us/step - loss: 0.1095 - acc: 0.9635 - val_loss: 3.6281 - val_acc: 0.5244\n",
      "Epoch 60/100\n",
      "50000/50000 [==============================] - 12s 239us/step - loss: 0.0907 - acc: 0.9713 - val_loss: 3.8407 - val_acc: 0.5332\n",
      "Epoch 61/100\n",
      "50000/50000 [==============================] - 12s 235us/step - loss: 0.0868 - acc: 0.9712 - val_loss: 3.7371 - val_acc: 0.5274\n",
      "Epoch 62/100\n",
      "50000/50000 [==============================] - 12s 235us/step - loss: 0.0814 - acc: 0.9735 - val_loss: 3.8343 - val_acc: 0.5233\n",
      "Epoch 63/100\n",
      "50000/50000 [==============================] - 12s 235us/step - loss: 0.0806 - acc: 0.9733 - val_loss: 3.8951 - val_acc: 0.5233\n",
      "Epoch 64/100\n",
      "50000/50000 [==============================] - 12s 236us/step - loss: 0.1041 - acc: 0.9661 - val_loss: 3.7227 - val_acc: 0.5330\n",
      "Epoch 65/100\n",
      "50000/50000 [==============================] - 12s 235us/step - loss: 0.0786 - acc: 0.9741 - val_loss: 3.8451 - val_acc: 0.5306\n",
      "Epoch 66/100\n",
      "50000/50000 [==============================] - 12s 232us/step - loss: 0.0915 - acc: 0.9706 - val_loss: 3.7362 - val_acc: 0.5285\n",
      "Epoch 67/100\n",
      "50000/50000 [==============================] - 12s 238us/step - loss: 0.0926 - acc: 0.9700 - val_loss: 3.7659 - val_acc: 0.5324\n",
      "Epoch 68/100\n",
      "50000/50000 [==============================] - 12s 244us/step - loss: 0.0795 - acc: 0.9745 - val_loss: 3.8490 - val_acc: 0.5327\n",
      "Epoch 69/100\n",
      "50000/50000 [==============================] - 12s 237us/step - loss: 0.0819 - acc: 0.9732 - val_loss: 3.7529 - val_acc: 0.5407\n",
      "Epoch 70/100\n",
      "50000/50000 [==============================] - 12s 246us/step - loss: 0.0705 - acc: 0.9775 - val_loss: 3.8759 - val_acc: 0.5274\n",
      "Epoch 71/100\n",
      "50000/50000 [==============================] - 11s 224us/step - loss: 0.0934 - acc: 0.9699 - val_loss: 3.8532 - val_acc: 0.5323\n",
      "Epoch 72/100\n",
      "50000/50000 [==============================] - 10s 210us/step - loss: 0.0721 - acc: 0.9773 - val_loss: 3.9190 - val_acc: 0.5278\n",
      "Epoch 73/100\n",
      "50000/50000 [==============================] - 10s 194us/step - loss: 0.0661 - acc: 0.9791 - val_loss: 3.9243 - val_acc: 0.5370\n",
      "Epoch 74/100\n",
      "50000/50000 [==============================] - 10s 192us/step - loss: 0.0775 - acc: 0.9743 - val_loss: 3.8980 - val_acc: 0.5290\n",
      "Epoch 75/100\n",
      "50000/50000 [==============================] - 10s 204us/step - loss: 0.0871 - acc: 0.9732 - val_loss: 3.8967 - val_acc: 0.5279\n",
      "Epoch 76/100\n",
      "50000/50000 [==============================] - 10s 190us/step - loss: 0.0768 - acc: 0.9749 - val_loss: 4.0439 - val_acc: 0.5212\n",
      "Epoch 77/100\n",
      "50000/50000 [==============================] - 10s 204us/step - loss: 0.0791 - acc: 0.9751 - val_loss: 3.7934 - val_acc: 0.5310\n",
      "Epoch 78/100\n",
      "50000/50000 [==============================] - 12s 243us/step - loss: 0.0759 - acc: 0.9751 - val_loss: 3.8766 - val_acc: 0.5358\n",
      "Epoch 79/100\n",
      "50000/50000 [==============================] - 12s 241us/step - loss: 0.0577 - acc: 0.9809 - val_loss: 3.8948 - val_acc: 0.5362\n",
      "Epoch 80/100\n",
      "50000/50000 [==============================] - 10s 201us/step - loss: 0.0628 - acc: 0.9798 - val_loss: 3.9828 - val_acc: 0.5317\n",
      "Epoch 81/100\n",
      "50000/50000 [==============================] - 11s 215us/step - loss: 0.0849 - acc: 0.9730 - val_loss: 3.8128 - val_acc: 0.5298\n",
      "Epoch 82/100\n",
      "50000/50000 [==============================] - 9s 188us/step - loss: 0.0567 - acc: 0.9811 - val_loss: 3.9956 - val_acc: 0.5266\n",
      "Epoch 83/100\n",
      "50000/50000 [==============================] - 11s 211us/step - loss: 0.0732 - acc: 0.9766 - val_loss: 3.9060 - val_acc: 0.5333\n",
      "Epoch 84/100\n",
      "50000/50000 [==============================] - 10s 203us/step - loss: 0.0777 - acc: 0.9747 - val_loss: 3.9311 - val_acc: 0.5303\n",
      "Epoch 85/100\n",
      "50000/50000 [==============================] - 11s 215us/step - loss: 0.0782 - acc: 0.9746 - val_loss: 3.9481 - val_acc: 0.5305\n",
      "Epoch 86/100\n",
      "50000/50000 [==============================] - 10s 197us/step - loss: 0.0728 - acc: 0.9768 - val_loss: 3.9108 - val_acc: 0.5348\n",
      "Epoch 87/100\n",
      "50000/50000 [==============================] - 10s 194us/step - loss: 0.0811 - acc: 0.9735 - val_loss: 3.9609 - val_acc: 0.5336\n",
      "Epoch 88/100\n",
      "50000/50000 [==============================] - 11s 225us/step - loss: 0.0552 - acc: 0.9815 - val_loss: 4.0078 - val_acc: 0.5301\n",
      "Epoch 89/100\n",
      "50000/50000 [==============================] - 10s 199us/step - loss: 0.0570 - acc: 0.9822 - val_loss: 3.9345 - val_acc: 0.5328\n",
      "Epoch 90/100\n",
      "50000/50000 [==============================] - 11s 227us/step - loss: 0.0686 - acc: 0.9783 - val_loss: 3.9729 - val_acc: 0.5375\n",
      "Epoch 91/100\n",
      "50000/50000 [==============================] - 13s 259us/step - loss: 0.0684 - acc: 0.9780 - val_loss: 3.9868 - val_acc: 0.5262\n",
      "Epoch 92/100\n",
      "50000/50000 [==============================] - 11s 211us/step - loss: 0.0669 - acc: 0.9784 - val_loss: 4.0539 - val_acc: 0.5288\n",
      "Epoch 93/100\n",
      "50000/50000 [==============================] - 10s 209us/step - loss: 0.0706 - acc: 0.9774 - val_loss: 3.9099 - val_acc: 0.5270\n",
      "Epoch 94/100\n",
      "50000/50000 [==============================] - 10s 209us/step - loss: 0.0600 - acc: 0.9806 - val_loss: 3.9833 - val_acc: 0.5298\n",
      "Epoch 95/100\n",
      "50000/50000 [==============================] - 10s 209us/step - loss: 0.0465 - acc: 0.9851 - val_loss: 4.0943 - val_acc: 0.5269\n",
      "Epoch 96/100\n",
      "50000/50000 [==============================] - 10s 209us/step - loss: 0.0490 - acc: 0.9838 - val_loss: 4.1101 - val_acc: 0.5353\n",
      "Epoch 97/100\n",
      "50000/50000 [==============================] - 13s 264us/step - loss: 0.0644 - acc: 0.9796 - val_loss: 4.0381 - val_acc: 0.5235\n",
      "Epoch 98/100\n",
      "50000/50000 [==============================] - 10s 204us/step - loss: 0.0905 - acc: 0.9717 - val_loss: 3.8551 - val_acc: 0.5323\n",
      "Epoch 99/100\n",
      "50000/50000 [==============================] - 10s 207us/step - loss: 0.0388 - acc: 0.9873 - val_loss: 4.0053 - val_acc: 0.5301\n",
      "Epoch 100/100\n",
      "50000/50000 [==============================] - 12s 235us/step - loss: 0.0426 - acc: 0.9862 - val_loss: 4.1202 - val_acc: 0.5258\n"
     ]
    },
    {
     "data": {
      "text/plain": [
       "<keras.callbacks.History at 0x2ce435e1978>"
      ]
     },
     "execution_count": 37,
     "metadata": {},
     "output_type": "execute_result"
    }
   ],
   "source": [
    "model.fit(x_train, y_train, \n",
    "          epochs=EPOCHS, \n",
    "          batch_size=BATCH_SIZE, \n",
    "          validation_data=(x_test, y_test), \n",
    "          shuffle=True)"
   ]
  },
  {
   "cell_type": "code",
   "execution_count": 38,
   "metadata": {},
   "outputs": [
    {
     "data": {
      "image/png": "[encoded data removed]",
      "text/plain": [
       "<Figure size 432x288 with 1 Axes>"
      ]
     },
     "metadata": {
      "needs_background": "light"
     },
     "output_type": "display_data"
    },
    {
     "data": {
      "image/png": "[encoded data removed]",
      "text/plain": [
       "<Figure size 432x288 with 1 Axes>"
      ]
     },
     "metadata": {
      "needs_background": "light"
     },
     "output_type": "display_data"
    }
   ],
   "source": [
    "import matplotlib.pyplot as plt\n",
    "\n",
    "\n",
    "train_loss = model.history.history[\"loss\"]\n",
    "valid_loss = model.history.history[\"val_loss\"]\n",
    "\n",
    "train_acc = model.history.history[\"acc\"]\n",
    "valid_acc = model.history.history[\"val_acc\"]\n",
    "\n",
    "plt.plot(range(len(train_loss)), train_loss, label=\"train loss\")\n",
    "plt.plot(range(len(valid_loss)), valid_loss, label=\"valid loss\")\n",
    "plt.legend()\n",
    "plt.title(\"Loss\")\n",
    "plt.show()\n",
    "\n",
    "plt.plot(range(len(train_acc)), train_acc, label=\"train accuracy\")\n",
    "plt.plot(range(len(valid_acc)), valid_acc, label=\"valid accuracy\")\n",
    "plt.legend()\n",
    "plt.title(\"Accuracy\")\n",
    "plt.show()"
   ]
  },
  {
   "cell_type": "code",
   "execution_count": null,
   "metadata": {},
   "outputs": [],
   "source": []
  }
 ],
 "metadata": {
  "kernelspec": {
   "display_name": "Python 3",
   "language": "python",
   "name": "python3"
  },
  "language_info": {
   "codemirror_mode": {
    "name": "ipython",
    "version": 3
   },
   "file_extension": ".py",
   "mimetype": "text/x-python",
   "name": "python",
   "nbconvert_exporter": "python",
   "pygments_lexer": "ipython3",
   "version": "3.6.8"
  }
 },
 "nbformat": 4,
 "nbformat_minor": 2
}
